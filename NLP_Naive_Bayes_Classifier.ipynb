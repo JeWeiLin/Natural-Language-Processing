{
  "nbformat": 4,
  "nbformat_minor": 0,
  "metadata": {
    "colab": {
      "provenance": []
    },
    "kernelspec": {
      "name": "python3",
      "display_name": "Python 3"
    },
    "language_info": {
      "name": "python"
    }
  },
  "cells": [
    {
      "cell_type": "markdown",
      "source": [
        "# Naive Bayes Classifier"
      ],
      "metadata": {
        "id": "x6ZHOucvOOza"
      }
    },
    {
      "cell_type": "code",
      "source": [
        "import nltk\n",
        "from nltk.corpus import movie_reviews\n",
        "nltk.download(\"movie_reviews\")"
      ],
      "metadata": {
        "colab": {
          "base_uri": "https://localhost:8080/"
        },
        "id": "uK8D8UDUCZlc",
        "outputId": "29f4da28-f355-4b60-b841-6c30ebce6723"
      },
      "execution_count": null,
      "outputs": [
        {
          "output_type": "stream",
          "name": "stderr",
          "text": [
            "[nltk_data] Downloading package movie_reviews to /root/nltk_data...\n",
            "[nltk_data]   Unzipping corpora/movie_reviews.zip.\n"
          ]
        },
        {
          "output_type": "execute_result",
          "data": {
            "text/plain": [
              "True"
            ]
          },
          "metadata": {},
          "execution_count": 1
        }
      ]
    },
    {
      "cell_type": "code",
      "source": [
        "from collections import defaultdict, Counter\n",
        "import math\n",
        "import random\n",
        "\n",
        "train_X, train_Y = [], []\n",
        "test_X, test_Y = [], []\n",
        "\n",
        "random.seed(0)\n",
        "for polarity in movie_reviews.categories():\n",
        "    for fid in movie_reviews.fileids(polarity):\n",
        "        if random.randrange(5) == 0:\n",
        "            test_X.append([w for w in movie_reviews.words(fid)])\n",
        "            test_Y.append(polarity)\n",
        "        else:\n",
        "            train_X.append([w for w in movie_reviews.words(fid)])\n",
        "            train_Y.append(polarity)\n",
        "\n",
        "print(train_X[0], train_Y[0])"
      ],
      "metadata": {
        "colab": {
          "base_uri": "https://localhost:8080/"
        },
        "id": "dyfLD0SRChBr",
        "outputId": "3a9cc014-081f-4509-b894-e1a74bb55df0"
      },
      "execution_count": null,
      "outputs": [
        {
          "output_type": "stream",
          "name": "stdout",
          "text": [
            "['plot', ':', 'two', 'teen', 'couples', 'go', 'to', 'a', 'church', 'party', ',', 'drink', 'and', 'then', 'drive', '.', 'they', 'get', 'into', 'an', 'accident', '.', 'one', 'of', 'the', 'guys', 'dies', ',', 'but', 'his', 'girlfriend', 'continues', 'to', 'see', 'him', 'in', 'her', 'life', ',', 'and', 'has', 'nightmares', '.', 'what', \"'\", 's', 'the', 'deal', '?', 'watch', 'the', 'movie', 'and', '\"', 'sorta', '\"', 'find', 'out', '.', '.', '.', 'critique', ':', 'a', 'mind', '-', 'fuck', 'movie', 'for', 'the', 'teen', 'generation', 'that', 'touches', 'on', 'a', 'very', 'cool', 'idea', ',', 'but', 'presents', 'it', 'in', 'a', 'very', 'bad', 'package', '.', 'which', 'is', 'what', 'makes', 'this', 'review', 'an', 'even', 'harder', 'one', 'to', 'write', ',', 'since', 'i', 'generally', 'applaud', 'films', 'which', 'attempt', 'to', 'break', 'the', 'mold', ',', 'mess', 'with', 'your', 'head', 'and', 'such', '(', 'lost', 'highway', '&', 'memento', ')', ',', 'but', 'there', 'are', 'good', 'and', 'bad', 'ways', 'of', 'making', 'all', 'types', 'of', 'films', ',', 'and', 'these', 'folks', 'just', 'didn', \"'\", 't', 'snag', 'this', 'one', 'correctly', '.', 'they', 'seem', 'to', 'have', 'taken', 'this', 'pretty', 'neat', 'concept', ',', 'but', 'executed', 'it', 'terribly', '.', 'so', 'what', 'are', 'the', 'problems', 'with', 'the', 'movie', '?', 'well', ',', 'its', 'main', 'problem', 'is', 'that', 'it', \"'\", 's', 'simply', 'too', 'jumbled', '.', 'it', 'starts', 'off', '\"', 'normal', '\"', 'but', 'then', 'downshifts', 'into', 'this', '\"', 'fantasy', '\"', 'world', 'in', 'which', 'you', ',', 'as', 'an', 'audience', 'member', ',', 'have', 'no', 'idea', 'what', \"'\", 's', 'going', 'on', '.', 'there', 'are', 'dreams', ',', 'there', 'are', 'characters', 'coming', 'back', 'from', 'the', 'dead', ',', 'there', 'are', 'others', 'who', 'look', 'like', 'the', 'dead', ',', 'there', 'are', 'strange', 'apparitions', ',', 'there', 'are', 'disappearances', ',', 'there', 'are', 'a', 'looooot', 'of', 'chase', 'scenes', ',', 'there', 'are', 'tons', 'of', 'weird', 'things', 'that', 'happen', ',', 'and', 'most', 'of', 'it', 'is', 'simply', 'not', 'explained', '.', 'now', 'i', 'personally', 'don', \"'\", 't', 'mind', 'trying', 'to', 'unravel', 'a', 'film', 'every', 'now', 'and', 'then', ',', 'but', 'when', 'all', 'it', 'does', 'is', 'give', 'me', 'the', 'same', 'clue', 'over', 'and', 'over', 'again', ',', 'i', 'get', 'kind', 'of', 'fed', 'up', 'after', 'a', 'while', ',', 'which', 'is', 'this', 'film', \"'\", 's', 'biggest', 'problem', '.', 'it', \"'\", 's', 'obviously', 'got', 'this', 'big', 'secret', 'to', 'hide', ',', 'but', 'it', 'seems', 'to', 'want', 'to', 'hide', 'it', 'completely', 'until', 'its', 'final', 'five', 'minutes', '.', 'and', 'do', 'they', 'make', 'things', 'entertaining', ',', 'thrilling', 'or', 'even', 'engaging', ',', 'in', 'the', 'meantime', '?', 'not', 'really', '.', 'the', 'sad', 'part', 'is', 'that', 'the', 'arrow', 'and', 'i', 'both', 'dig', 'on', 'flicks', 'like', 'this', ',', 'so', 'we', 'actually', 'figured', 'most', 'of', 'it', 'out', 'by', 'the', 'half', '-', 'way', 'point', ',', 'so', 'all', 'of', 'the', 'strangeness', 'after', 'that', 'did', 'start', 'to', 'make', 'a', 'little', 'bit', 'of', 'sense', ',', 'but', 'it', 'still', 'didn', \"'\", 't', 'the', 'make', 'the', 'film', 'all', 'that', 'more', 'entertaining', '.', 'i', 'guess', 'the', 'bottom', 'line', 'with', 'movies', 'like', 'this', 'is', 'that', 'you', 'should', 'always', 'make', 'sure', 'that', 'the', 'audience', 'is', '\"', 'into', 'it', '\"', 'even', 'before', 'they', 'are', 'given', 'the', 'secret', 'password', 'to', 'enter', 'your', 'world', 'of', 'understanding', '.', 'i', 'mean', ',', 'showing', 'melissa', 'sagemiller', 'running', 'away', 'from', 'visions', 'for', 'about', '20', 'minutes', 'throughout', 'the', 'movie', 'is', 'just', 'plain', 'lazy', '!', '!', 'okay', ',', 'we', 'get', 'it', '.', '.', '.', 'there', 'are', 'people', 'chasing', 'her', 'and', 'we', 'don', \"'\", 't', 'know', 'who', 'they', 'are', '.', 'do', 'we', 'really', 'need', 'to', 'see', 'it', 'over', 'and', 'over', 'again', '?', 'how', 'about', 'giving', 'us', 'different', 'scenes', 'offering', 'further', 'insight', 'into', 'all', 'of', 'the', 'strangeness', 'going', 'down', 'in', 'the', 'movie', '?', 'apparently', ',', 'the', 'studio', 'took', 'this', 'film', 'away', 'from', 'its', 'director', 'and', 'chopped', 'it', 'up', 'themselves', ',', 'and', 'it', 'shows', '.', 'there', 'might', \"'\", 've', 'been', 'a', 'pretty', 'decent', 'teen', 'mind', '-', 'fuck', 'movie', 'in', 'here', 'somewhere', ',', 'but', 'i', 'guess', '\"', 'the', 'suits', '\"', 'decided', 'that', 'turning', 'it', 'into', 'a', 'music', 'video', 'with', 'little', 'edge', ',', 'would', 'make', 'more', 'sense', '.', 'the', 'actors', 'are', 'pretty', 'good', 'for', 'the', 'most', 'part', ',', 'although', 'wes', 'bentley', 'just', 'seemed', 'to', 'be', 'playing', 'the', 'exact', 'same', 'character', 'that', 'he', 'did', 'in', 'american', 'beauty', ',', 'only', 'in', 'a', 'new', 'neighborhood', '.', 'but', 'my', 'biggest', 'kudos', 'go', 'out', 'to', 'sagemiller', ',', 'who', 'holds', 'her', 'own', 'throughout', 'the', 'entire', 'film', ',', 'and', 'actually', 'has', 'you', 'feeling', 'her', 'character', \"'\", 's', 'unraveling', '.', 'overall', ',', 'the', 'film', 'doesn', \"'\", 't', 'stick', 'because', 'it', 'doesn', \"'\", 't', 'entertain', ',', 'it', \"'\", 's', 'confusing', ',', 'it', 'rarely', 'excites', 'and', 'it', 'feels', 'pretty', 'redundant', 'for', 'most', 'of', 'its', 'runtime', ',', 'despite', 'a', 'pretty', 'cool', 'ending', 'and', 'explanation', 'to', 'all', 'of', 'the', 'craziness', 'that', 'came', 'before', 'it', '.', 'oh', ',', 'and', 'by', 'the', 'way', ',', 'this', 'is', 'not', 'a', 'horror', 'or', 'teen', 'slasher', 'flick', '.', '.', '.', 'it', \"'\", 's', 'just', 'packaged', 'to', 'look', 'that', 'way', 'because', 'someone', 'is', 'apparently', 'assuming', 'that', 'the', 'genre', 'is', 'still', 'hot', 'with', 'the', 'kids', '.', 'it', 'also', 'wrapped', 'production', 'two', 'years', 'ago', 'and', 'has', 'been', 'sitting', 'on', 'the', 'shelves', 'ever', 'since', '.', 'whatever', '.', '.', '.', 'skip', 'it', '!', 'where', \"'\", 's', 'joblo', 'coming', 'from', '?', 'a', 'nightmare', 'of', 'elm', 'street', '3', '(', '7', '/', '10', ')', '-', 'blair', 'witch', '2', '(', '7', '/', '10', ')', '-', 'the', 'crow', '(', '9', '/', '10', ')', '-', 'the', 'crow', ':', 'salvation', '(', '4', '/', '10', ')', '-', 'lost', 'highway', '(', '10', '/', '10', ')', '-', 'memento', '(', '10', '/', '10', ')', '-', 'the', 'others', '(', '9', '/', '10', ')', '-', 'stir', 'of', 'echoes', '(', '8', '/', '10', ')'] neg\n"
          ]
        }
      ]
    },
    {
      "cell_type": "markdown",
      "source": [
        "## Model Construction\n",
        "\n",
        "$\\bar{y} = \\text{arg}\\max_{y \\in \\mathbf{y}} P(y|x) = \\text{arg}\\max_{y \\in \\mathbf{y}} P(y) \\prod_{i=1}^n \\frac{P(x_i|y)}{P(x_i)} = \\text{arg}\\max_{y \\in \\mathbf{y}} P(y) \\prod_{i=1}^n P(x_i|y)$\n",
        "\n",
        "$P(x_i|y)=\\frac{C(x_i, y) + k}{C(y) + |\\mathbf{y}| \\times k}$\n",
        "\n",
        "$\\bar{y} = \\textrm{arg} \\max_{y \\in \\mathbf{y}} \\log P(y) + \\sum_{i=1}^n \\log \\frac{C(x_i, y) + k}{C(y) + k|\\mathbf{y}|}$\n",
        "\n",
        "     "
      ],
      "metadata": {
        "id": "8TiSvHHAhy6H"
      }
    },
    {
      "cell_type": "code",
      "source": [
        "nltk.download('stopwords')\n",
        "nltk.download('punkt')\n",
        "nltk.download('punkt_tab')\n",
        "nltk.download('averaged_perceptron_tagger_eng')\n",
        "nltk.download('wordnet')\n",
        "\n",
        "class NaiveBayesClassifier:\n",
        "    def __init__(self, k=0.3, ngram_range=(1, 2)):\n",
        "        from nltk.corpus import stopwords\n",
        "        from nltk.stem import WordNetLemmatizer\n",
        "        self.k = k\n",
        "        self.features = set()\n",
        "        self.class_feature_counts = defaultdict(Counter)\n",
        "        self.class_counts = Counter()\n",
        "        self.total = 0\n",
        "        self.lemmatizer = WordNetLemmatizer()\n",
        "        self.stop_words = set(stopwords.words('english'))\n",
        "        self.ngram_range = ngram_range\n",
        "\n",
        "    def get_wordnet_pos(self, treebank_tag):\n",
        "        from nltk.corpus import wordnet\n",
        "        if treebank_tag.startswith('J'):\n",
        "            return wordnet.ADJ\n",
        "        elif treebank_tag.startswith('V'):\n",
        "            return wordnet.VERB\n",
        "        elif treebank_tag.startswith('N'):\n",
        "            return wordnet.NOUN\n",
        "        elif treebank_tag.startswith('R'):\n",
        "            return wordnet.ADV\n",
        "        else:\n",
        "            return wordnet.NOUN\n",
        "\n",
        "    def Text_Cleaning(self, tokens):\n",
        "        import string\n",
        "        from nltk import pos_tag\n",
        "        from nltk.util import ngrams\n",
        "\n",
        "        tokens = [token for token in tokens if token not in string.punctuation]\n",
        "        tokens = [token for token in tokens if not token.isdigit()]\n",
        "        tokens = [token.lower() for token in tokens]\n",
        "        tokens = [token for token in tokens if token not in self.stop_words]\n",
        "\n",
        "        tagged_tokens = pos_tag(tokens)\n",
        "        lemmatized_tokens = [\n",
        "            self.lemmatizer.lemmatize(token, self.get_wordnet_pos(pos))\n",
        "            for token, pos in tagged_tokens\n",
        "        ]\n",
        "        ngram_tokens = []\n",
        "        for n in range(self.ngram_range[0], self.ngram_range[1] + 1):\n",
        "            ngram_tokens.extend(ngrams(lemmatized_tokens, n))\n",
        "\n",
        "        ngram_tokens = [' '.join(ngram) for ngram in ngram_tokens]\n",
        "        return ngram_tokens\n",
        "\n",
        "\n",
        "    def train(self, raw_train_X, train_Y, n=4000):\n",
        "        from collections import Counter\n",
        "\n",
        "        all_tokens = []\n",
        "        cleaned_X = []\n",
        "\n",
        "        for tokens in raw_train_X:\n",
        "            cleaned = self.Text_Cleaning(tokens)\n",
        "            cleaned_X.append(cleaned)\n",
        "            all_tokens.extend(cleaned)\n",
        "\n",
        "        # 最常見的 n 個詞彙\n",
        "        token_counts = Counter(all_tokens)\n",
        "        top_tokens = set(token for token, _ in token_counts.most_common(n))\n",
        "\n",
        "        # 保留出現在 top_tokens 中的詞彙\n",
        "        for tokens, label in zip(cleaned_X, train_Y):\n",
        "            filtered_tokens = [token for token in tokens if token in top_tokens]\n",
        "\n",
        "            self.class_counts[label] += 1\n",
        "            self.total += 1\n",
        "\n",
        "            for token in set(filtered_tokens):\n",
        "                self.features.add(token)\n",
        "                self.class_feature_counts[label][token] += 1\n",
        "\n",
        "\n",
        "    def probabilities(self, token):\n",
        "        probs = {}\n",
        "        total_token_count = sum(sum(token_counts.values()) for token_counts in self.class_feature_counts.values())\n",
        "        total_token_freq = sum(self.class_feature_counts[cls][token] for cls in self.class_feature_counts)\n",
        "\n",
        "        pw = total_token_freq / total_token_count if total_token_count > 0 else 1e-6\n",
        "\n",
        "        for cls, cls_token_counts in self.class_feature_counts.items():\n",
        "            token_count = cls_token_counts.get(token, 0)\n",
        "            Nc = sum(cls_token_counts.values())\n",
        "            alpha = self.k\n",
        "            probs[cls] = (token_count + alpha * pw) / (Nc + alpha)\n",
        "        return probs\n",
        "\n",
        "\n",
        "    def predict(self, tokens):\n",
        "        tokens = self.Text_Cleaning(tokens)\n",
        "        tokens = set(tokens)\n",
        "\n",
        "        log_probs = Counter()\n",
        "        for cls, cls_cnt in self.class_counts.items():\n",
        "            log_probs[cls] = math.log(cls_cnt / self.total)\n",
        "\n",
        "        # for token in self.features:\n",
        "        #     probs = self.probabilities(token)\n",
        "        #     if token in tokens:\n",
        "        #         for cls, prob in probs.items():\n",
        "        #             log_probs[cls] += math.log(prob)\n",
        "        #     else:\n",
        "        #         for cls, prob in probs.items():\n",
        "        #             log_probs[cls] += math.log(1.0 - prob)\n",
        "        for token in tokens & self.features:\n",
        "            probs = self.probabilities(token)\n",
        "            for cls, prob in probs.items():\n",
        "                log_probs[cls] += math.log(prob)\n",
        "        return max(log_probs, key=log_probs.get), log_probs\n",
        "\n"
      ],
      "metadata": {
        "colab": {
          "base_uri": "https://localhost:8080/"
        },
        "id": "MTTUzuzZ_j0F",
        "outputId": "c36bb007-64bb-4c8d-e618-504dab5f252c"
      },
      "execution_count": null,
      "outputs": [
        {
          "output_type": "stream",
          "name": "stderr",
          "text": [
            "[nltk_data] Downloading package stopwords to /root/nltk_data...\n",
            "[nltk_data]   Package stopwords is already up-to-date!\n",
            "[nltk_data] Downloading package punkt to /root/nltk_data...\n",
            "[nltk_data]   Package punkt is already up-to-date!\n",
            "[nltk_data] Downloading package punkt_tab to /root/nltk_data...\n",
            "[nltk_data]   Unzipping tokenizers/punkt_tab.zip.\n",
            "[nltk_data] Downloading package averaged_perceptron_tagger_eng to\n",
            "[nltk_data]     /root/nltk_data...\n",
            "[nltk_data]   Package averaged_perceptron_tagger_eng is already up-to-\n",
            "[nltk_data]       date!\n",
            "[nltk_data] Downloading package wordnet to /root/nltk_data...\n",
            "[nltk_data]   Package wordnet is already up-to-date!\n"
          ]
        }
      ]
    },
    {
      "cell_type": "code",
      "source": [
        "print(train_X[0])"
      ],
      "metadata": {
        "colab": {
          "base_uri": "https://localhost:8080/"
        },
        "id": "iUOpQb5_8qHp",
        "outputId": "4b7b611a-a5ba-43b0-8b19-111c5ac4b08d"
      },
      "execution_count": null,
      "outputs": [
        {
          "output_type": "stream",
          "name": "stdout",
          "text": [
            "['plot', ':', 'two', 'teen', 'couples', 'go', 'to', 'a', 'church', 'party', ',', 'drink', 'and', 'then', 'drive', '.', 'they', 'get', 'into', 'an', 'accident', '.', 'one', 'of', 'the', 'guys', 'dies', ',', 'but', 'his', 'girlfriend', 'continues', 'to', 'see', 'him', 'in', 'her', 'life', ',', 'and', 'has', 'nightmares', '.', 'what', \"'\", 's', 'the', 'deal', '?', 'watch', 'the', 'movie', 'and', '\"', 'sorta', '\"', 'find', 'out', '.', '.', '.', 'critique', ':', 'a', 'mind', '-', 'fuck', 'movie', 'for', 'the', 'teen', 'generation', 'that', 'touches', 'on', 'a', 'very', 'cool', 'idea', ',', 'but', 'presents', 'it', 'in', 'a', 'very', 'bad', 'package', '.', 'which', 'is', 'what', 'makes', 'this', 'review', 'an', 'even', 'harder', 'one', 'to', 'write', ',', 'since', 'i', 'generally', 'applaud', 'films', 'which', 'attempt', 'to', 'break', 'the', 'mold', ',', 'mess', 'with', 'your', 'head', 'and', 'such', '(', 'lost', 'highway', '&', 'memento', ')', ',', 'but', 'there', 'are', 'good', 'and', 'bad', 'ways', 'of', 'making', 'all', 'types', 'of', 'films', ',', 'and', 'these', 'folks', 'just', 'didn', \"'\", 't', 'snag', 'this', 'one', 'correctly', '.', 'they', 'seem', 'to', 'have', 'taken', 'this', 'pretty', 'neat', 'concept', ',', 'but', 'executed', 'it', 'terribly', '.', 'so', 'what', 'are', 'the', 'problems', 'with', 'the', 'movie', '?', 'well', ',', 'its', 'main', 'problem', 'is', 'that', 'it', \"'\", 's', 'simply', 'too', 'jumbled', '.', 'it', 'starts', 'off', '\"', 'normal', '\"', 'but', 'then', 'downshifts', 'into', 'this', '\"', 'fantasy', '\"', 'world', 'in', 'which', 'you', ',', 'as', 'an', 'audience', 'member', ',', 'have', 'no', 'idea', 'what', \"'\", 's', 'going', 'on', '.', 'there', 'are', 'dreams', ',', 'there', 'are', 'characters', 'coming', 'back', 'from', 'the', 'dead', ',', 'there', 'are', 'others', 'who', 'look', 'like', 'the', 'dead', ',', 'there', 'are', 'strange', 'apparitions', ',', 'there', 'are', 'disappearances', ',', 'there', 'are', 'a', 'looooot', 'of', 'chase', 'scenes', ',', 'there', 'are', 'tons', 'of', 'weird', 'things', 'that', 'happen', ',', 'and', 'most', 'of', 'it', 'is', 'simply', 'not', 'explained', '.', 'now', 'i', 'personally', 'don', \"'\", 't', 'mind', 'trying', 'to', 'unravel', 'a', 'film', 'every', 'now', 'and', 'then', ',', 'but', 'when', 'all', 'it', 'does', 'is', 'give', 'me', 'the', 'same', 'clue', 'over', 'and', 'over', 'again', ',', 'i', 'get', 'kind', 'of', 'fed', 'up', 'after', 'a', 'while', ',', 'which', 'is', 'this', 'film', \"'\", 's', 'biggest', 'problem', '.', 'it', \"'\", 's', 'obviously', 'got', 'this', 'big', 'secret', 'to', 'hide', ',', 'but', 'it', 'seems', 'to', 'want', 'to', 'hide', 'it', 'completely', 'until', 'its', 'final', 'five', 'minutes', '.', 'and', 'do', 'they', 'make', 'things', 'entertaining', ',', 'thrilling', 'or', 'even', 'engaging', ',', 'in', 'the', 'meantime', '?', 'not', 'really', '.', 'the', 'sad', 'part', 'is', 'that', 'the', 'arrow', 'and', 'i', 'both', 'dig', 'on', 'flicks', 'like', 'this', ',', 'so', 'we', 'actually', 'figured', 'most', 'of', 'it', 'out', 'by', 'the', 'half', '-', 'way', 'point', ',', 'so', 'all', 'of', 'the', 'strangeness', 'after', 'that', 'did', 'start', 'to', 'make', 'a', 'little', 'bit', 'of', 'sense', ',', 'but', 'it', 'still', 'didn', \"'\", 't', 'the', 'make', 'the', 'film', 'all', 'that', 'more', 'entertaining', '.', 'i', 'guess', 'the', 'bottom', 'line', 'with', 'movies', 'like', 'this', 'is', 'that', 'you', 'should', 'always', 'make', 'sure', 'that', 'the', 'audience', 'is', '\"', 'into', 'it', '\"', 'even', 'before', 'they', 'are', 'given', 'the', 'secret', 'password', 'to', 'enter', 'your', 'world', 'of', 'understanding', '.', 'i', 'mean', ',', 'showing', 'melissa', 'sagemiller', 'running', 'away', 'from', 'visions', 'for', 'about', '20', 'minutes', 'throughout', 'the', 'movie', 'is', 'just', 'plain', 'lazy', '!', '!', 'okay', ',', 'we', 'get', 'it', '.', '.', '.', 'there', 'are', 'people', 'chasing', 'her', 'and', 'we', 'don', \"'\", 't', 'know', 'who', 'they', 'are', '.', 'do', 'we', 'really', 'need', 'to', 'see', 'it', 'over', 'and', 'over', 'again', '?', 'how', 'about', 'giving', 'us', 'different', 'scenes', 'offering', 'further', 'insight', 'into', 'all', 'of', 'the', 'strangeness', 'going', 'down', 'in', 'the', 'movie', '?', 'apparently', ',', 'the', 'studio', 'took', 'this', 'film', 'away', 'from', 'its', 'director', 'and', 'chopped', 'it', 'up', 'themselves', ',', 'and', 'it', 'shows', '.', 'there', 'might', \"'\", 've', 'been', 'a', 'pretty', 'decent', 'teen', 'mind', '-', 'fuck', 'movie', 'in', 'here', 'somewhere', ',', 'but', 'i', 'guess', '\"', 'the', 'suits', '\"', 'decided', 'that', 'turning', 'it', 'into', 'a', 'music', 'video', 'with', 'little', 'edge', ',', 'would', 'make', 'more', 'sense', '.', 'the', 'actors', 'are', 'pretty', 'good', 'for', 'the', 'most', 'part', ',', 'although', 'wes', 'bentley', 'just', 'seemed', 'to', 'be', 'playing', 'the', 'exact', 'same', 'character', 'that', 'he', 'did', 'in', 'american', 'beauty', ',', 'only', 'in', 'a', 'new', 'neighborhood', '.', 'but', 'my', 'biggest', 'kudos', 'go', 'out', 'to', 'sagemiller', ',', 'who', 'holds', 'her', 'own', 'throughout', 'the', 'entire', 'film', ',', 'and', 'actually', 'has', 'you', 'feeling', 'her', 'character', \"'\", 's', 'unraveling', '.', 'overall', ',', 'the', 'film', 'doesn', \"'\", 't', 'stick', 'because', 'it', 'doesn', \"'\", 't', 'entertain', ',', 'it', \"'\", 's', 'confusing', ',', 'it', 'rarely', 'excites', 'and', 'it', 'feels', 'pretty', 'redundant', 'for', 'most', 'of', 'its', 'runtime', ',', 'despite', 'a', 'pretty', 'cool', 'ending', 'and', 'explanation', 'to', 'all', 'of', 'the', 'craziness', 'that', 'came', 'before', 'it', '.', 'oh', ',', 'and', 'by', 'the', 'way', ',', 'this', 'is', 'not', 'a', 'horror', 'or', 'teen', 'slasher', 'flick', '.', '.', '.', 'it', \"'\", 's', 'just', 'packaged', 'to', 'look', 'that', 'way', 'because', 'someone', 'is', 'apparently', 'assuming', 'that', 'the', 'genre', 'is', 'still', 'hot', 'with', 'the', 'kids', '.', 'it', 'also', 'wrapped', 'production', 'two', 'years', 'ago', 'and', 'has', 'been', 'sitting', 'on', 'the', 'shelves', 'ever', 'since', '.', 'whatever', '.', '.', '.', 'skip', 'it', '!', 'where', \"'\", 's', 'joblo', 'coming', 'from', '?', 'a', 'nightmare', 'of', 'elm', 'street', '3', '(', '7', '/', '10', ')', '-', 'blair', 'witch', '2', '(', '7', '/', '10', ')', '-', 'the', 'crow', '(', '9', '/', '10', ')', '-', 'the', 'crow', ':', 'salvation', '(', '4', '/', '10', ')', '-', 'lost', 'highway', '(', '10', '/', '10', ')', '-', 'memento', '(', '10', '/', '10', ')', '-', 'the', 'others', '(', '9', '/', '10', ')', '-', 'stir', 'of', 'echoes', '(', '8', '/', '10', ')']\n"
          ]
        }
      ]
    },
    {
      "cell_type": "code",
      "source": [
        "model = NaiveBayesClassifier()\n",
        "print(model.Text_Cleaning(train_X[0]))"
      ],
      "metadata": {
        "colab": {
          "base_uri": "https://localhost:8080/"
        },
        "id": "IwEh8FuQ8eLA",
        "outputId": "ba56f2f3-765c-4b92-b487-b88922b182dd"
      },
      "execution_count": null,
      "outputs": [
        {
          "output_type": "stream",
          "name": "stdout",
          "text": [
            "['plot', 'two', 'teen', 'couple', 'go', 'church', 'party', 'drink', 'drive', 'get', 'accident', 'one', 'guy', 'die', 'girlfriend', 'continue', 'see', 'life', 'nightmare', 'deal', 'watch', 'movie', 'sorta', 'find', 'critique', 'mind', 'fuck', 'movie', 'teen', 'generation', 'touch', 'cool', 'idea', 'present', 'bad', 'package', 'make', 'review', 'even', 'hard', 'one', 'write', 'since', 'generally', 'applaud', 'film', 'attempt', 'break', 'mold', 'mess', 'head', 'lose', 'highway', 'memento', 'good', 'bad', 'way', 'make', 'type', 'film', 'folk', 'snag', 'one', 'correctly', 'seem', 'take', 'pretty', 'neat', 'concept', 'execute', 'terribly', 'problem', 'movie', 'well', 'main', 'problem', 'simply', 'jumble', 'start', 'normal', 'downshift', 'fantasy', 'world', 'audience', 'member', 'idea', 'go', 'dreams', 'character', 'come', 'back', 'dead', 'others', 'look', 'like', 'dead', 'strange', 'apparition', 'disappearance', 'looooot', 'chase', 'scene', 'ton', 'weird', 'thing', 'happen', 'simply', 'explain', 'personally', 'mind', 'try', 'unravel', 'film', 'every', 'give', 'clue', 'get', 'kind', 'fed', 'film', 'big', 'problem', 'obviously', 'get', 'big', 'secret', 'hide', 'seem', 'want', 'hide', 'completely', 'final', 'five', 'minute', 'make', 'thing', 'entertain', 'thrill', 'even', 'engage', 'meantime', 'really', 'sad', 'part', 'arrow', 'dig', 'flick', 'like', 'actually', 'figure', 'half', 'way', 'point', 'strangeness', 'start', 'make', 'little', 'bit', 'sense', 'still', 'make', 'film', 'entertain', 'guess', 'bottom', 'line', 'movie', 'like', 'always', 'make', 'sure', 'audience', 'even', 'give', 'secret', 'password', 'enter', 'world', 'understand', 'mean', 'show', 'melissa', 'sagemiller', 'run', 'away', 'vision', 'minute', 'throughout', 'movie', 'plain', 'lazy', 'okay', 'get', 'people', 'chase', 'know', 'really', 'need', 'see', 'give', 'u', 'different', 'scene', 'offer', 'insight', 'strangeness', 'go', 'movie', 'apparently', 'studio', 'take', 'film', 'away', 'director', 'chop', 'show', 'might', 'pretty', 'decent', 'teen', 'mind', 'fuck', 'movie', 'somewhere', 'guess', 'suit', 'decide', 'turn', 'music', 'video', 'little', 'edge', 'would', 'make', 'sense', 'actor', 'pretty', 'good', 'part', 'although', 'wes', 'bentley', 'seem', 'play', 'exact', 'character', 'american', 'beauty', 'new', 'neighborhood', 'big', 'kudos', 'go', 'sagemiller', 'hold', 'throughout', 'entire', 'film', 'actually', 'feel', 'character', 'unravel', 'overall', 'film', 'stick', 'entertain', 'confuse', 'rarely', 'excite', 'feel', 'pretty', 'redundant', 'runtime', 'despite', 'pretty', 'cool', 'end', 'explanation', 'craziness', 'come', 'oh', 'way', 'horror', 'teen', 'slasher', 'flick', 'package', 'look', 'way', 'someone', 'apparently', 'assume', 'genre', 'still', 'hot', 'kid', 'also', 'wrap', 'production', 'two', 'year', 'ago', 'sit', 'shelf', 'ever', 'since', 'whatever', 'skip', 'joblo', 'come', 'nightmare', 'elm', 'street', 'blair', 'witch', 'crow', 'crow', 'salvation', 'lose', 'highway', 'memento', 'others', 'stir', 'echo', 'plot two', 'two teen', 'teen couple', 'couple go', 'go church', 'church party', 'party drink', 'drink drive', 'drive get', 'get accident', 'accident one', 'one guy', 'guy die', 'die girlfriend', 'girlfriend continue', 'continue see', 'see life', 'life nightmare', 'nightmare deal', 'deal watch', 'watch movie', 'movie sorta', 'sorta find', 'find critique', 'critique mind', 'mind fuck', 'fuck movie', 'movie teen', 'teen generation', 'generation touch', 'touch cool', 'cool idea', 'idea present', 'present bad', 'bad package', 'package make', 'make review', 'review even', 'even hard', 'hard one', 'one write', 'write since', 'since generally', 'generally applaud', 'applaud film', 'film attempt', 'attempt break', 'break mold', 'mold mess', 'mess head', 'head lose', 'lose highway', 'highway memento', 'memento good', 'good bad', 'bad way', 'way make', 'make type', 'type film', 'film folk', 'folk snag', 'snag one', 'one correctly', 'correctly seem', 'seem take', 'take pretty', 'pretty neat', 'neat concept', 'concept execute', 'execute terribly', 'terribly problem', 'problem movie', 'movie well', 'well main', 'main problem', 'problem simply', 'simply jumble', 'jumble start', 'start normal', 'normal downshift', 'downshift fantasy', 'fantasy world', 'world audience', 'audience member', 'member idea', 'idea go', 'go dreams', 'dreams character', 'character come', 'come back', 'back dead', 'dead others', 'others look', 'look like', 'like dead', 'dead strange', 'strange apparition', 'apparition disappearance', 'disappearance looooot', 'looooot chase', 'chase scene', 'scene ton', 'ton weird', 'weird thing', 'thing happen', 'happen simply', 'simply explain', 'explain personally', 'personally mind', 'mind try', 'try unravel', 'unravel film', 'film every', 'every give', 'give clue', 'clue get', 'get kind', 'kind fed', 'fed film', 'film big', 'big problem', 'problem obviously', 'obviously get', 'get big', 'big secret', 'secret hide', 'hide seem', 'seem want', 'want hide', 'hide completely', 'completely final', 'final five', 'five minute', 'minute make', 'make thing', 'thing entertain', 'entertain thrill', 'thrill even', 'even engage', 'engage meantime', 'meantime really', 'really sad', 'sad part', 'part arrow', 'arrow dig', 'dig flick', 'flick like', 'like actually', 'actually figure', 'figure half', 'half way', 'way point', 'point strangeness', 'strangeness start', 'start make', 'make little', 'little bit', 'bit sense', 'sense still', 'still make', 'make film', 'film entertain', 'entertain guess', 'guess bottom', 'bottom line', 'line movie', 'movie like', 'like always', 'always make', 'make sure', 'sure audience', 'audience even', 'even give', 'give secret', 'secret password', 'password enter', 'enter world', 'world understand', 'understand mean', 'mean show', 'show melissa', 'melissa sagemiller', 'sagemiller run', 'run away', 'away vision', 'vision minute', 'minute throughout', 'throughout movie', 'movie plain', 'plain lazy', 'lazy okay', 'okay get', 'get people', 'people chase', 'chase know', 'know really', 'really need', 'need see', 'see give', 'give u', 'u different', 'different scene', 'scene offer', 'offer insight', 'insight strangeness', 'strangeness go', 'go movie', 'movie apparently', 'apparently studio', 'studio take', 'take film', 'film away', 'away director', 'director chop', 'chop show', 'show might', 'might pretty', 'pretty decent', 'decent teen', 'teen mind', 'mind fuck', 'fuck movie', 'movie somewhere', 'somewhere guess', 'guess suit', 'suit decide', 'decide turn', 'turn music', 'music video', 'video little', 'little edge', 'edge would', 'would make', 'make sense', 'sense actor', 'actor pretty', 'pretty good', 'good part', 'part although', 'although wes', 'wes bentley', 'bentley seem', 'seem play', 'play exact', 'exact character', 'character american', 'american beauty', 'beauty new', 'new neighborhood', 'neighborhood big', 'big kudos', 'kudos go', 'go sagemiller', 'sagemiller hold', 'hold throughout', 'throughout entire', 'entire film', 'film actually', 'actually feel', 'feel character', 'character unravel', 'unravel overall', 'overall film', 'film stick', 'stick entertain', 'entertain confuse', 'confuse rarely', 'rarely excite', 'excite feel', 'feel pretty', 'pretty redundant', 'redundant runtime', 'runtime despite', 'despite pretty', 'pretty cool', 'cool end', 'end explanation', 'explanation craziness', 'craziness come', 'come oh', 'oh way', 'way horror', 'horror teen', 'teen slasher', 'slasher flick', 'flick package', 'package look', 'look way', 'way someone', 'someone apparently', 'apparently assume', 'assume genre', 'genre still', 'still hot', 'hot kid', 'kid also', 'also wrap', 'wrap production', 'production two', 'two year', 'year ago', 'ago sit', 'sit shelf', 'shelf ever', 'ever since', 'since whatever', 'whatever skip', 'skip joblo', 'joblo come', 'come nightmare', 'nightmare elm', 'elm street', 'street blair', 'blair witch', 'witch crow', 'crow crow', 'crow salvation', 'salvation lose', 'lose highway', 'highway memento', 'memento others', 'others stir', 'stir echo']\n"
          ]
        }
      ]
    },
    {
      "cell_type": "markdown",
      "source": [
        "## Using the Model"
      ],
      "metadata": {
        "id": "GE_Ht04wh3Tc"
      }
    },
    {
      "cell_type": "code",
      "source": [
        "model = NaiveBayesClassifier()\n",
        "model.train(train_X, train_Y)"
      ],
      "metadata": {
        "id": "5rdZQ-aJhtld"
      },
      "execution_count": null,
      "outputs": []
    },
    {
      "cell_type": "code",
      "source": [
        "from nltk.tokenize import word_tokenize\n",
        "nltk.download('punkt')\n",
        "\n",
        "# Taken from https://www.imdb.com/review/rw0990793/?ref_=tt_urv\n",
        "review = \"\"\"A whimsical, often spectacular view of a future in which advances in technology dominate the world. It is well shot and although slow-moving it is intense and enjoyable throughout. The featuring of classical music to establish atmosphere works brilliantly; it provides a feeling of awe, mystery and intrigue  the same aura that Walt Disney worked in creating 'Fantasia'. The special effects, both sound and visual, are still spellbinding by the standards of today's technology. Aside from the technical pluses of the film, it stands strong as it is one of not many films out there that has something important to say about humankind, and where the human race is heading in terms of our increasing reliance on machines and our unquenchable thirst to discover. Despite an ending that is hard to understand, it is even harder to overlook this film a true cinema classic.\"\"\"\n",
        "\n",
        "model.predict(word_tokenize(review))"
      ],
      "metadata": {
        "colab": {
          "base_uri": "https://localhost:8080/"
        },
        "id": "aeH93xRFZ1EF",
        "outputId": "7994c9a0-c897-4901-86c8-746a1279a9a4"
      },
      "execution_count": null,
      "outputs": [
        {
          "output_type": "stream",
          "name": "stderr",
          "text": [
            "[nltk_data] Downloading package punkt to /root/nltk_data...\n",
            "[nltk_data]   Package punkt is already up-to-date!\n"
          ]
        },
        {
          "output_type": "execute_result",
          "data": {
            "text/plain": [
              "('pos', Counter({'neg': -478.63064522402584, 'pos': -466.34256029901144}))"
            ]
          },
          "metadata": {},
          "execution_count": 53
        }
      ]
    },
    {
      "cell_type": "code",
      "source": [
        "correct, total = 0, 0\n",
        "\n",
        "for x, y in zip(test_X, test_Y):\n",
        "    prediction, _ = model.predict(x)\n",
        "    if prediction == y:\n",
        "        correct += 1\n",
        "    total += 1\n",
        "\n",
        "print(\"%d / %d = %g\" % (correct, total, correct / total))"
      ],
      "metadata": {
        "id": "U1lkFRJ0FKbc",
        "colab": {
          "base_uri": "https://localhost:8080/"
        },
        "outputId": "5aee5320-6c22-49b3-d0b3-54e8b6389a4c"
      },
      "execution_count": null,
      "outputs": [
        {
          "output_type": "stream",
          "name": "stdout",
          "text": [
            "359 / 422 = 0.850711\n"
          ]
        }
      ]
    },
    {
      "cell_type": "markdown",
      "source": [
        "## Exploring important features"
      ],
      "metadata": {
        "id": "pmqZUqeTgjzW"
      }
    },
    {
      "cell_type": "code",
      "source": [
        "def prob_class_given_feature(feature, cls, model):\n",
        "    probs = model.probabilities(feature)\n",
        "    return probs[cls] / sum(probs.values())\n",
        "\n",
        "print(sorted(model.features, key=lambda t: prob_class_given_feature(t, \"pos\", model), reverse=True)[:30])\n",
        "print(sorted(model.features, key=lambda t: prob_class_given_feature(t, \"neg\", model), reverse=True)[:30])"
      ],
      "metadata": {
        "colab": {
          "base_uri": "https://localhost:8080/"
        },
        "id": "xofcbwlXgluq",
        "outputId": "96928c27-28d4-488f-ce9f-798c3611f644"
      },
      "execution_count": null,
      "outputs": [
        {
          "output_type": "stream",
          "name": "stdout",
          "text": [
            "['argento', 'mallory', 'gattaca', 'shrek', 'sweetback', 'ghost dog', 'mulan', 'leila', 'guido', 'ordell', 'outstanding', 'dark city', 'fairy tale', 'refresh', 'wonderfully', 'jackie brown', 'qui gon', 'anakin', 'qui', 'gon', 'coen', 'jude', 'matt damon', 'big lebowski', 'jedi', 'lebowski', 'damon', 'german', 'marvelous', 'larry flynt']\n",
            "['sphere', 'brenner', 'krippendorf', 'nbsp', 'schumacher', 'welles', 'henstridge', 'end day', 'video game', 'mission mar', 'ludicrous', 'one bad', 'turkey', 'bad movie', 'wild west', 'stupidity', 'seagal', 'worst', 'waste time', 'poorly', 'palmetto', 'idiotic', 'uninspired', 'inept', 'batman robin', 'uninteresting', 'whole thing', 'movie bad', 'natasha', 'judith']\n"
          ]
        }
      ]
    }
  ]
}